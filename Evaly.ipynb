{
 "cells": [
  {
   "cell_type": "code",
   "execution_count": 1,
   "id": "dccb37de-1b62-4611-a02b-31f755692117",
   "metadata": {},
   "outputs": [],
   "source": [
    "import requests"
   ]
  },
  {
   "cell_type": "code",
   "execution_count": 2,
   "id": "ff61fec9-d478-49e9-9546-a093bf8e3026",
   "metadata": {},
   "outputs": [],
   "source": [
    "import json"
   ]
  },
  {
   "cell_type": "code",
   "execution_count": 3,
   "id": "fc897c1a-4be1-4453-ba0a-a71c115300e9",
   "metadata": {},
   "outputs": [],
   "source": [
    "headers={'User-Agent': 'Mozilla/5.0 (WindowsNT10.0;Win64;x64)AppleWebKit/537.36(KHTML,likeGecko)Chrome/102.0.0.0 Safari/537.36'}"
   ]
  },
  {
   "cell_type": "code",
   "execution_count": 4,
   "id": "23ba0705-b3d5-4542-95a0-7866fb4aaf1a",
   "metadata": {},
   "outputs": [],
   "source": [
    "url=\"https://evaly.com.bd/_next/data/YrSHIueZICL2DvB0w0Z3V/products.json?page=2\""
   ]
  },
  {
   "cell_type": "code",
   "execution_count": 5,
   "id": "07ea796a-efae-4060-8b12-7ced08f084c2",
   "metadata": {},
   "outputs": [],
   "source": [
    "page=  requests.get(url,headers=headers)"
   ]
  },
  {
   "cell_type": "code",
   "execution_count": 6,
   "id": "cc3cbdf1-5172-4992-9e93-b6aa0be56d48",
   "metadata": {},
   "outputs": [
    {
     "ename": "JSONDecodeError",
     "evalue": "Expecting value: line 1 column 1 (char 0)",
     "output_type": "error",
     "traceback": [
      "\u001b[0;31m---------------------------------------------------------------------------\u001b[0m",
      "\u001b[0;31mJSONDecodeError\u001b[0m                           Traceback (most recent call last)",
      "File \u001b[0;32m/opt/conda/lib/python3.10/site-packages/requests/models.py:971\u001b[0m, in \u001b[0;36mResponse.json\u001b[0;34m(self, **kwargs)\u001b[0m\n\u001b[1;32m    970\u001b[0m \u001b[38;5;28;01mtry\u001b[39;00m:\n\u001b[0;32m--> 971\u001b[0m     \u001b[38;5;28;01mreturn\u001b[39;00m \u001b[43mcomplexjson\u001b[49m\u001b[38;5;241;43m.\u001b[39;49m\u001b[43mloads\u001b[49m\u001b[43m(\u001b[49m\u001b[38;5;28;43mself\u001b[39;49m\u001b[38;5;241;43m.\u001b[39;49m\u001b[43mtext\u001b[49m\u001b[43m,\u001b[49m\u001b[43m \u001b[49m\u001b[38;5;241;43m*\u001b[39;49m\u001b[38;5;241;43m*\u001b[39;49m\u001b[43mkwargs\u001b[49m\u001b[43m)\u001b[49m\n\u001b[1;32m    972\u001b[0m \u001b[38;5;28;01mexcept\u001b[39;00m JSONDecodeError \u001b[38;5;28;01mas\u001b[39;00m e:\n\u001b[1;32m    973\u001b[0m     \u001b[38;5;66;03m# Catch JSON-related errors and raise as requests.JSONDecodeError\u001b[39;00m\n\u001b[1;32m    974\u001b[0m     \u001b[38;5;66;03m# This aliases json.JSONDecodeError and simplejson.JSONDecodeError\u001b[39;00m\n",
      "File \u001b[0;32m/opt/conda/lib/python3.10/json/__init__.py:346\u001b[0m, in \u001b[0;36mloads\u001b[0;34m(s, cls, object_hook, parse_float, parse_int, parse_constant, object_pairs_hook, **kw)\u001b[0m\n\u001b[1;32m    343\u001b[0m \u001b[38;5;28;01mif\u001b[39;00m (\u001b[38;5;28mcls\u001b[39m \u001b[38;5;129;01mis\u001b[39;00m \u001b[38;5;28;01mNone\u001b[39;00m \u001b[38;5;129;01mand\u001b[39;00m object_hook \u001b[38;5;129;01mis\u001b[39;00m \u001b[38;5;28;01mNone\u001b[39;00m \u001b[38;5;129;01mand\u001b[39;00m\n\u001b[1;32m    344\u001b[0m         parse_int \u001b[38;5;129;01mis\u001b[39;00m \u001b[38;5;28;01mNone\u001b[39;00m \u001b[38;5;129;01mand\u001b[39;00m parse_float \u001b[38;5;129;01mis\u001b[39;00m \u001b[38;5;28;01mNone\u001b[39;00m \u001b[38;5;129;01mand\u001b[39;00m\n\u001b[1;32m    345\u001b[0m         parse_constant \u001b[38;5;129;01mis\u001b[39;00m \u001b[38;5;28;01mNone\u001b[39;00m \u001b[38;5;129;01mand\u001b[39;00m object_pairs_hook \u001b[38;5;129;01mis\u001b[39;00m \u001b[38;5;28;01mNone\u001b[39;00m \u001b[38;5;129;01mand\u001b[39;00m \u001b[38;5;129;01mnot\u001b[39;00m kw):\n\u001b[0;32m--> 346\u001b[0m     \u001b[38;5;28;01mreturn\u001b[39;00m \u001b[43m_default_decoder\u001b[49m\u001b[38;5;241;43m.\u001b[39;49m\u001b[43mdecode\u001b[49m\u001b[43m(\u001b[49m\u001b[43ms\u001b[49m\u001b[43m)\u001b[49m\n\u001b[1;32m    347\u001b[0m \u001b[38;5;28;01mif\u001b[39;00m \u001b[38;5;28mcls\u001b[39m \u001b[38;5;129;01mis\u001b[39;00m \u001b[38;5;28;01mNone\u001b[39;00m:\n",
      "File \u001b[0;32m/opt/conda/lib/python3.10/json/decoder.py:337\u001b[0m, in \u001b[0;36mJSONDecoder.decode\u001b[0;34m(self, s, _w)\u001b[0m\n\u001b[1;32m    333\u001b[0m \u001b[38;5;124;03m\"\"\"Return the Python representation of ``s`` (a ``str`` instance\u001b[39;00m\n\u001b[1;32m    334\u001b[0m \u001b[38;5;124;03mcontaining a JSON document).\u001b[39;00m\n\u001b[1;32m    335\u001b[0m \n\u001b[1;32m    336\u001b[0m \u001b[38;5;124;03m\"\"\"\u001b[39;00m\n\u001b[0;32m--> 337\u001b[0m obj, end \u001b[38;5;241m=\u001b[39m \u001b[38;5;28;43mself\u001b[39;49m\u001b[38;5;241;43m.\u001b[39;49m\u001b[43mraw_decode\u001b[49m\u001b[43m(\u001b[49m\u001b[43ms\u001b[49m\u001b[43m,\u001b[49m\u001b[43m \u001b[49m\u001b[43midx\u001b[49m\u001b[38;5;241;43m=\u001b[39;49m\u001b[43m_w\u001b[49m\u001b[43m(\u001b[49m\u001b[43ms\u001b[49m\u001b[43m,\u001b[49m\u001b[43m \u001b[49m\u001b[38;5;241;43m0\u001b[39;49m\u001b[43m)\u001b[49m\u001b[38;5;241;43m.\u001b[39;49m\u001b[43mend\u001b[49m\u001b[43m(\u001b[49m\u001b[43m)\u001b[49m\u001b[43m)\u001b[49m\n\u001b[1;32m    338\u001b[0m end \u001b[38;5;241m=\u001b[39m _w(s, end)\u001b[38;5;241m.\u001b[39mend()\n",
      "File \u001b[0;32m/opt/conda/lib/python3.10/json/decoder.py:355\u001b[0m, in \u001b[0;36mJSONDecoder.raw_decode\u001b[0;34m(self, s, idx)\u001b[0m\n\u001b[1;32m    354\u001b[0m \u001b[38;5;28;01mexcept\u001b[39;00m \u001b[38;5;167;01mStopIteration\u001b[39;00m \u001b[38;5;28;01mas\u001b[39;00m err:\n\u001b[0;32m--> 355\u001b[0m     \u001b[38;5;28;01mraise\u001b[39;00m JSONDecodeError(\u001b[38;5;124m\"\u001b[39m\u001b[38;5;124mExpecting value\u001b[39m\u001b[38;5;124m\"\u001b[39m, s, err\u001b[38;5;241m.\u001b[39mvalue) \u001b[38;5;28;01mfrom\u001b[39;00m \u001b[38;5;28mNone\u001b[39m\n\u001b[1;32m    356\u001b[0m \u001b[38;5;28;01mreturn\u001b[39;00m obj, end\n",
      "\u001b[0;31mJSONDecodeError\u001b[0m: Expecting value: line 1 column 1 (char 0)",
      "\nDuring handling of the above exception, another exception occurred:\n",
      "\u001b[0;31mJSONDecodeError\u001b[0m                           Traceback (most recent call last)",
      "Cell \u001b[0;32mIn [6], line 1\u001b[0m\n\u001b[0;32m----> 1\u001b[0m response\u001b[38;5;241m=\u001b[39m\u001b[43mpage\u001b[49m\u001b[38;5;241;43m.\u001b[39;49m\u001b[43mjson\u001b[49m\u001b[43m(\u001b[49m\u001b[43m)\u001b[49m\n",
      "File \u001b[0;32m/opt/conda/lib/python3.10/site-packages/requests/models.py:975\u001b[0m, in \u001b[0;36mResponse.json\u001b[0;34m(self, **kwargs)\u001b[0m\n\u001b[1;32m    971\u001b[0m     \u001b[38;5;28;01mreturn\u001b[39;00m complexjson\u001b[38;5;241m.\u001b[39mloads(\u001b[38;5;28mself\u001b[39m\u001b[38;5;241m.\u001b[39mtext, \u001b[38;5;241m*\u001b[39m\u001b[38;5;241m*\u001b[39mkwargs)\n\u001b[1;32m    972\u001b[0m \u001b[38;5;28;01mexcept\u001b[39;00m JSONDecodeError \u001b[38;5;28;01mas\u001b[39;00m e:\n\u001b[1;32m    973\u001b[0m     \u001b[38;5;66;03m# Catch JSON-related errors and raise as requests.JSONDecodeError\u001b[39;00m\n\u001b[1;32m    974\u001b[0m     \u001b[38;5;66;03m# This aliases json.JSONDecodeError and simplejson.JSONDecodeError\u001b[39;00m\n\u001b[0;32m--> 975\u001b[0m     \u001b[38;5;28;01mraise\u001b[39;00m RequestsJSONDecodeError(e\u001b[38;5;241m.\u001b[39mmsg, e\u001b[38;5;241m.\u001b[39mdoc, e\u001b[38;5;241m.\u001b[39mpos)\n",
      "\u001b[0;31mJSONDecodeError\u001b[0m: Expecting value: line 1 column 1 (char 0)"
     ]
    }
   ],
   "source": [
    "response=page.json()"
   ]
  },
  {
   "cell_type": "code",
   "execution_count": null,
   "id": "bfe25e9b-b457-49f3-8fb5-952fca59c851",
   "metadata": {},
   "outputs": [],
   "source": [
    "response.keys()"
   ]
  },
  {
   "cell_type": "code",
   "execution_count": null,
   "id": "a7b59911-9f6f-4176-a493-2767d3b600d1",
   "metadata": {},
   "outputs": [],
   "source": [
    "response[\"pageProps\"][\"product\"][\"content\"][0]"
   ]
  },
  {
   "cell_type": "code",
   "execution_count": null,
   "id": "2450f215-e0fd-47a9-984e-002cba59d0db",
   "metadata": {},
   "outputs": [],
   "source": [
    "name=response[\"pageProps\"][\"product\"][\"content\"][0][\"name\"]"
   ]
  },
  {
   "cell_type": "code",
   "execution_count": null,
   "id": "e266eb5a-91a0-400c-8081-e14cae6877f3",
   "metadata": {},
   "outputs": [],
   "source": [
    "price=response[\"pageProps\"][\"product\"][\"content\"][0][\"price\"]"
   ]
  },
  {
   "cell_type": "code",
   "execution_count": null,
   "id": "4d579834-b63c-477d-9fb5-ee4903bff650",
   "metadata": {},
   "outputs": [],
   "source": [
    "retailPrice=response[\"pageProps\"][\"product\"][\"content\"][0][\"retailPrice\"]"
   ]
  },
  {
   "cell_type": "code",
   "execution_count": null,
   "id": "132af1c7-10b3-413b-abfb-abec754fe2f3",
   "metadata": {},
   "outputs": [],
   "source": [
    "campaignPrice=response[\"pageProps\"][\"product\"][\"content\"][0][\"campaignPrice\"]"
   ]
  },
  {
   "cell_type": "code",
   "execution_count": null,
   "id": "37a90784-3ef5-4908-9cdc-e0d12ec9bdfa",
   "metadata": {},
   "outputs": [],
   "source": [
    "images=response[\"pageProps\"][\"product\"][\"content\"][0][\"images\"][0]"
   ]
  },
  {
   "cell_type": "code",
   "execution_count": null,
   "id": "d373c043-4cd0-4dba-a928-f95839fe5add",
   "metadata": {},
   "outputs": [],
   "source": [
    "for pro in range(20):\n",
    "    fristpagedata={\n",
    "    \"name\":response[\"pageProps\"][\"product\"][\"content\"][pro][\"name\"],\n",
    "    \"price\":response[\"pageProps\"][\"product\"][\"content\"][pro][\"price\"],\n",
    "    \"retailPrice\":response[\"pageProps\"][\"product\"][\"content\"][pro][\"retailPrice\"],\n",
    "    \"campaignPrice\":response[\"pageProps\"][\"product\"][\"content\"][pro][\"campaignPrice\"],\n",
    "    \"images\":response[\"pageProps\"][\"product\"][\"content\"][pro][\"images\"][0],\n",
    "        }\n",
    "    print(fristpagedata)"
   ]
  },
  {
   "cell_type": "code",
   "execution_count": null,
   "id": "d9026d58-2667-48f1-a47e-c8f48ee19642",
   "metadata": {},
   "outputs": [],
   "source": [
    "EvalyData=[]\n",
    "for totalpage in range(599):\n",
    "    url=\"https://evaly.com.bd/_next/data/YrSHIueZICL2DvB0w0Z3V/products.json?page={totalpage}\"\n",
    "    for pro in range(20):\n",
    "        fristpagedata={\n",
    "        \"name\":response[\"pageProps\"][\"product\"][\"content\"][pro][\"name\"],\n",
    "        \"price\":response[\"pageProps\"][\"product\"][\"content\"][pro][\"price\"],\n",
    "        \"retailPrice\":response[\"pageProps\"][\"product\"][\"content\"][pro][\"retailPrice\"],\n",
    "        \"campaignPrice\":response[\"pageProps\"][\"product\"][\"content\"][pro][\"campaignPrice\"],\n",
    "        \"images\":response[\"pageProps\"][\"product\"][\"content\"][pro][\"images\"][0],\n",
    "            }\n",
    "        print(fristpagedata)\n",
    "        EvalyData.append(fristpagedata)"
   ]
  },
  {
   "cell_type": "code",
   "execution_count": 55,
   "id": "e11035ca-abb1-4eeb-b7a7-6e601336e713",
   "metadata": {},
   "outputs": [],
   "source": [
    "import pandas as pd\n",
    "df = pd.DataFrame(EvalyData)"
   ]
  },
  {
   "cell_type": "code",
   "execution_count": null,
   "id": "a1535eb5-1ed2-4c8d-9322-8fb4cc036c21",
   "metadata": {},
   "outputs": [],
   "source": [
    "df"
   ]
  },
  {
   "cell_type": "code",
   "execution_count": 62,
   "id": "4537282d-bc50-4fb3-8a7e-2e2cfd7ca85a",
   "metadata": {},
   "outputs": [],
   "source": [
    "df.to_csv('Evaly10k.csv')"
   ]
  },
  {
   "cell_type": "code",
   "execution_count": null,
   "id": "1ac9cfd4-7d15-45e7-8ab3-4850369070d3",
   "metadata": {},
   "outputs": [],
   "source": []
  }
 ],
 "metadata": {
  "kernelspec": {
   "display_name": "Python 3 (ipykernel)",
   "language": "python",
   "name": "python3"
  },
  "language_info": {
   "codemirror_mode": {
    "name": "ipython",
    "version": 3
   },
   "file_extension": ".py",
   "mimetype": "text/x-python",
   "name": "python",
   "nbconvert_exporter": "python",
   "pygments_lexer": "ipython3",
   "version": "3.10.6"
  }
 },
 "nbformat": 4,
 "nbformat_minor": 5
}
